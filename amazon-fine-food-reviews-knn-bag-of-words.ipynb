{
 "cells": [
  {
   "cell_type": "markdown",
   "metadata": {},
   "source": [
    "# Amazon Fine Food Reviews\n",
    "\n",
    "The Amazon Fine Food Reviews dataset consists of reviews of fine foods from Amazon.\n",
    "\n",
    "Number of reviews: 568,454\n",
    "Number of users: 256,059\n",
    "Number of products: 74,258\n",
    "Timespan: Oct 1999 - Oct 2012\n",
    "Number of Attributes/Columns in data: 10\n",
    "\n",
    "<br>\n",
    "#### Attribute Information:\n",
    "\n",
    "1. Id\n",
    "2. ProductId - unique identifier for the product\n",
    "3. UserId - unqiue identifier for the user\n",
    "4. ProfileName\n",
    "5. HelpfulnessNumerator - number of users who found the review helpful\n",
    "6. HelpfulnessDenominator - number of users who indicated whether they found the review helpful or not\n",
    "7. Score - rating between 1 and 5\n",
    "8. Time - timestamp for the review\n",
    "9. Summary - brief summary of the review\n",
    "10. Text - text of the review\n",
    "\n",
    "#### Objective:\n",
    "Given a review, determine whether the review is positive (rating of 4 or 5) or negative (rating of 1 or 2).\n",
    "\n",
    "Note: I have taken only 5000 reviews for this purpose because of computational constraints. "
   ]
  },
  {
   "cell_type": "code",
   "execution_count": 1,
   "metadata": {},
   "outputs": [],
   "source": [
    "import pandas as pd\n",
    "import sqlite3\n",
    "import numpy as np\n",
    "import matplotlib.pyplot as plt\n",
    "import seaborn as sns\n",
    "from sklearn.neighbors import KNeighborsClassifier\n",
    "from sklearn.neighbors import LocalOutlierFactor\n",
    "from nltk.corpus import stopwords\n",
    "import warnings\n",
    "warnings.filterwarnings(\"ignore\")\n",
    "%matplotlib inline\n",
    "from sklearn.feature_extraction.text import CountVectorizer\n",
    "from sklearn.feature_extraction.text import TfidfVectorizer\n",
    "from sklearn.feature_extraction.text import TfidfTransformer\n",
    "\n"
   ]
  },
  {
   "cell_type": "markdown",
   "metadata": {},
   "source": [
    "# [0] Loading the Data\n",
    "\n"
   ]
  },
  {
   "cell_type": "code",
   "execution_count": 2,
   "metadata": {},
   "outputs": [
    {
     "name": "stdout",
     "output_type": "stream",
     "text": [
      "The Shape of the data(5000, 10)\n",
      "\n",
      "Data Types of all columns\n",
      " Id                         int64\n",
      "ProductId                 object\n",
      "UserId                    object\n",
      "ProfileName               object\n",
      "HelpfulnessNumerator       int64\n",
      "HelpfulnessDenominator     int64\n",
      "Score                      int64\n",
      "Time                       int64\n",
      "Summary                   object\n",
      "Text                      object\n",
      "dtype: object \n",
      "\n",
      "Checking for Na Values\n",
      " Id                        0\n",
      "ProductId                 0\n",
      "UserId                    0\n",
      "ProfileName               0\n",
      "HelpfulnessNumerator      0\n",
      "HelpfulnessDenominator    0\n",
      "Score                     0\n",
      "Time                      0\n",
      "Summary                   0\n",
      "Text                      0\n",
      "dtype: int64\n"
     ]
    },
    {
     "data": {
      "text/html": [
       "<div>\n",
       "<style scoped>\n",
       "    .dataframe tbody tr th:only-of-type {\n",
       "        vertical-align: middle;\n",
       "    }\n",
       "\n",
       "    .dataframe tbody tr th {\n",
       "        vertical-align: top;\n",
       "    }\n",
       "\n",
       "    .dataframe thead th {\n",
       "        text-align: right;\n",
       "    }\n",
       "</style>\n",
       "<table border=\"1\" class=\"dataframe\">\n",
       "  <thead>\n",
       "    <tr style=\"text-align: right;\">\n",
       "      <th></th>\n",
       "      <th>Id</th>\n",
       "      <th>ProductId</th>\n",
       "      <th>UserId</th>\n",
       "      <th>ProfileName</th>\n",
       "      <th>HelpfulnessNumerator</th>\n",
       "      <th>HelpfulnessDenominator</th>\n",
       "      <th>Score</th>\n",
       "      <th>Time</th>\n",
       "      <th>Summary</th>\n",
       "      <th>Text</th>\n",
       "    </tr>\n",
       "  </thead>\n",
       "  <tbody>\n",
       "    <tr>\n",
       "      <th>0</th>\n",
       "      <td>1</td>\n",
       "      <td>B001E4KFG0</td>\n",
       "      <td>A3SGXH7AUHU8GW</td>\n",
       "      <td>delmartian</td>\n",
       "      <td>1</td>\n",
       "      <td>1</td>\n",
       "      <td>5</td>\n",
       "      <td>1303862400</td>\n",
       "      <td>Good Quality Dog Food</td>\n",
       "      <td>I have bought several of the Vitality canned d...</td>\n",
       "    </tr>\n",
       "    <tr>\n",
       "      <th>1</th>\n",
       "      <td>2</td>\n",
       "      <td>B00813GRG4</td>\n",
       "      <td>A1D87F6ZCVE5NK</td>\n",
       "      <td>dll pa</td>\n",
       "      <td>0</td>\n",
       "      <td>0</td>\n",
       "      <td>1</td>\n",
       "      <td>1346976000</td>\n",
       "      <td>Not as Advertised</td>\n",
       "      <td>Product arrived labeled as Jumbo Salted Peanut...</td>\n",
       "    </tr>\n",
       "    <tr>\n",
       "      <th>2</th>\n",
       "      <td>3</td>\n",
       "      <td>B000LQOCH0</td>\n",
       "      <td>ABXLMWJIXXAIN</td>\n",
       "      <td>Natalia Corres \"Natalia Corres\"</td>\n",
       "      <td>1</td>\n",
       "      <td>1</td>\n",
       "      <td>4</td>\n",
       "      <td>1219017600</td>\n",
       "      <td>\"Delight\" says it all</td>\n",
       "      <td>This is a confection that has been around a fe...</td>\n",
       "    </tr>\n",
       "    <tr>\n",
       "      <th>3</th>\n",
       "      <td>4</td>\n",
       "      <td>B000UA0QIQ</td>\n",
       "      <td>A395BORC6FGVXV</td>\n",
       "      <td>Karl</td>\n",
       "      <td>3</td>\n",
       "      <td>3</td>\n",
       "      <td>2</td>\n",
       "      <td>1307923200</td>\n",
       "      <td>Cough Medicine</td>\n",
       "      <td>If you are looking for the secret ingredient i...</td>\n",
       "    </tr>\n",
       "    <tr>\n",
       "      <th>4</th>\n",
       "      <td>5</td>\n",
       "      <td>B006K2ZZ7K</td>\n",
       "      <td>A1UQRSCLF8GW1T</td>\n",
       "      <td>Michael D. Bigham \"M. Wassir\"</td>\n",
       "      <td>0</td>\n",
       "      <td>0</td>\n",
       "      <td>5</td>\n",
       "      <td>1350777600</td>\n",
       "      <td>Great taffy</td>\n",
       "      <td>Great taffy at a great price.  There was a wid...</td>\n",
       "    </tr>\n",
       "  </tbody>\n",
       "</table>\n",
       "</div>"
      ],
      "text/plain": [
       "   Id                        ...                                                                       Text\n",
       "0   1                        ...                          I have bought several of the Vitality canned d...\n",
       "1   2                        ...                          Product arrived labeled as Jumbo Salted Peanut...\n",
       "2   3                        ...                          This is a confection that has been around a fe...\n",
       "3   4                        ...                          If you are looking for the secret ingredient i...\n",
       "4   5                        ...                          Great taffy at a great price.  There was a wid...\n",
       "\n",
       "[5 rows x 10 columns]"
      ]
     },
     "execution_count": 2,
     "metadata": {},
     "output_type": "execute_result"
    }
   ],
   "source": [
    "# Importing the data\n",
    "df = pd.read_csv('../input/Reviews.csv')\n",
    "data = df[df.Score!=3][0:5000]\n",
    "\n",
    "# Performing Basic Checks\n",
    "print('The Shape of the data'+str(data.shape)+'\\n')\n",
    "print('Data Types of all columns\\n',data.dtypes,'\\n')\n",
    "print('Checking for Na Values\\n',data.isna().sum())\n",
    "data.head(5)"
   ]
  },
  {
   "cell_type": "markdown",
   "metadata": {},
   "source": [
    "1. There are 10 features.\n",
    "2. No Na values present in the text data. For our objective the text is all we need."
   ]
  },
  {
   "cell_type": "markdown",
   "metadata": {},
   "source": [
    "# [1] Data Cleaning"
   ]
  },
  {
   "cell_type": "code",
   "execution_count": 3,
   "metadata": {},
   "outputs": [
    {
     "data": {
      "text/html": [
       "<div>\n",
       "<style scoped>\n",
       "    .dataframe tbody tr th:only-of-type {\n",
       "        vertical-align: middle;\n",
       "    }\n",
       "\n",
       "    .dataframe tbody tr th {\n",
       "        vertical-align: top;\n",
       "    }\n",
       "\n",
       "    .dataframe thead th {\n",
       "        text-align: right;\n",
       "    }\n",
       "</style>\n",
       "<table border=\"1\" class=\"dataframe\">\n",
       "  <thead>\n",
       "    <tr style=\"text-align: right;\">\n",
       "      <th></th>\n",
       "      <th>Id</th>\n",
       "      <th>ProductId</th>\n",
       "      <th>UserId</th>\n",
       "      <th>ProfileName</th>\n",
       "      <th>HelpfulnessNumerator</th>\n",
       "      <th>HelpfulnessDenominator</th>\n",
       "      <th>Time</th>\n",
       "      <th>Summary</th>\n",
       "      <th>Text</th>\n",
       "      <th>score</th>\n",
       "    </tr>\n",
       "  </thead>\n",
       "  <tbody>\n",
       "    <tr>\n",
       "      <th>0</th>\n",
       "      <td>1</td>\n",
       "      <td>B001E4KFG0</td>\n",
       "      <td>A3SGXH7AUHU8GW</td>\n",
       "      <td>delmartian</td>\n",
       "      <td>1</td>\n",
       "      <td>1</td>\n",
       "      <td>1303862400</td>\n",
       "      <td>Good Quality Dog Food</td>\n",
       "      <td>I have bought several of the Vitality canned d...</td>\n",
       "      <td>1</td>\n",
       "    </tr>\n",
       "    <tr>\n",
       "      <th>1</th>\n",
       "      <td>2</td>\n",
       "      <td>B00813GRG4</td>\n",
       "      <td>A1D87F6ZCVE5NK</td>\n",
       "      <td>dll pa</td>\n",
       "      <td>0</td>\n",
       "      <td>0</td>\n",
       "      <td>1346976000</td>\n",
       "      <td>Not as Advertised</td>\n",
       "      <td>Product arrived labeled as Jumbo Salted Peanut...</td>\n",
       "      <td>0</td>\n",
       "    </tr>\n",
       "    <tr>\n",
       "      <th>2</th>\n",
       "      <td>3</td>\n",
       "      <td>B000LQOCH0</td>\n",
       "      <td>ABXLMWJIXXAIN</td>\n",
       "      <td>Natalia Corres \"Natalia Corres\"</td>\n",
       "      <td>1</td>\n",
       "      <td>1</td>\n",
       "      <td>1219017600</td>\n",
       "      <td>\"Delight\" says it all</td>\n",
       "      <td>This is a confection that has been around a fe...</td>\n",
       "      <td>1</td>\n",
       "    </tr>\n",
       "    <tr>\n",
       "      <th>3</th>\n",
       "      <td>4</td>\n",
       "      <td>B000UA0QIQ</td>\n",
       "      <td>A395BORC6FGVXV</td>\n",
       "      <td>Karl</td>\n",
       "      <td>3</td>\n",
       "      <td>3</td>\n",
       "      <td>1307923200</td>\n",
       "      <td>Cough Medicine</td>\n",
       "      <td>If you are looking for the secret ingredient i...</td>\n",
       "      <td>0</td>\n",
       "    </tr>\n",
       "    <tr>\n",
       "      <th>4</th>\n",
       "      <td>5</td>\n",
       "      <td>B006K2ZZ7K</td>\n",
       "      <td>A1UQRSCLF8GW1T</td>\n",
       "      <td>Michael D. Bigham \"M. Wassir\"</td>\n",
       "      <td>0</td>\n",
       "      <td>0</td>\n",
       "      <td>1350777600</td>\n",
       "      <td>Great taffy</td>\n",
       "      <td>Great taffy at a great price.  There was a wid...</td>\n",
       "      <td>1</td>\n",
       "    </tr>\n",
       "  </tbody>\n",
       "</table>\n",
       "</div>"
      ],
      "text/plain": [
       "   Id  ...  score\n",
       "0   1  ...      1\n",
       "1   2  ...      0\n",
       "2   3  ...      1\n",
       "3   4  ...      0\n",
       "4   5  ...      1\n",
       "\n",
       "[5 rows x 10 columns]"
      ]
     },
     "execution_count": 3,
     "metadata": {},
     "output_type": "execute_result"
    }
   ],
   "source": [
    "# Converting score to 1(positive) or 0(negative)\n",
    "def score(x):\n",
    "    '''This function converts the score into positive or negative'''\n",
    "    if x<3:\n",
    "        return 0\n",
    "    elif x>3:\n",
    "        return 1\n",
    "positivenegative = data['Score'].map(score)\n",
    "data['score'] = positivenegative\n",
    "data.drop('Score',axis=1,inplace=True)\n",
    "data.head(5)    \n",
    "\n"
   ]
  },
  {
   "cell_type": "code",
   "execution_count": 4,
   "metadata": {},
   "outputs": [
    {
     "name": "stdout",
     "output_type": "stream",
     "text": [
      "Empty DataFrame\n",
      "Columns: [Id, ProductId, UserId, ProfileName, HelpfulnessNumerator, HelpfulnessDenominator, Time, Summary, Text, score]\n",
      "Index: []\n"
     ]
    },
    {
     "data": {
      "text/html": [
       "<div>\n",
       "<style scoped>\n",
       "    .dataframe tbody tr th:only-of-type {\n",
       "        vertical-align: middle;\n",
       "    }\n",
       "\n",
       "    .dataframe tbody tr th {\n",
       "        vertical-align: top;\n",
       "    }\n",
       "\n",
       "    .dataframe thead th {\n",
       "        text-align: right;\n",
       "    }\n",
       "</style>\n",
       "<table border=\"1\" class=\"dataframe\">\n",
       "  <thead>\n",
       "    <tr style=\"text-align: right;\">\n",
       "      <th></th>\n",
       "      <th>Id</th>\n",
       "      <th>ProductId</th>\n",
       "      <th>UserId</th>\n",
       "      <th>ProfileName</th>\n",
       "      <th>HelpfulnessNumerator</th>\n",
       "      <th>HelpfulnessDenominator</th>\n",
       "      <th>Time</th>\n",
       "      <th>Summary</th>\n",
       "      <th>Text</th>\n",
       "      <th>score</th>\n",
       "    </tr>\n",
       "  </thead>\n",
       "  <tbody>\n",
       "    <tr>\n",
       "      <th>29</th>\n",
       "      <td>30</td>\n",
       "      <td>B0001PB9FY</td>\n",
       "      <td>A3HDKO7OW0QNK4</td>\n",
       "      <td>Canadian Fan</td>\n",
       "      <td>1</td>\n",
       "      <td>1</td>\n",
       "      <td>1107820800</td>\n",
       "      <td>The Best Hot Sauce in the World</td>\n",
       "      <td>I don't know if it's the cactus or the tequila...</td>\n",
       "      <td>1</td>\n",
       "    </tr>\n",
       "    <tr>\n",
       "      <th>2309</th>\n",
       "      <td>2310</td>\n",
       "      <td>B0001VWE0M</td>\n",
       "      <td>AQM74O8Z4FMS0</td>\n",
       "      <td>Sunshine</td>\n",
       "      <td>0</td>\n",
       "      <td>0</td>\n",
       "      <td>1127606400</td>\n",
       "      <td>Below standard</td>\n",
       "      <td>Too much of the white pith on this orange peel...</td>\n",
       "      <td>0</td>\n",
       "    </tr>\n",
       "    <tr>\n",
       "      <th>2323</th>\n",
       "      <td>2324</td>\n",
       "      <td>B0001VWE0C</td>\n",
       "      <td>AQM74O8Z4FMS0</td>\n",
       "      <td>Sunshine</td>\n",
       "      <td>0</td>\n",
       "      <td>0</td>\n",
       "      <td>1127606400</td>\n",
       "      <td>Below standard</td>\n",
       "      <td>Too much of the white pith on this orange peel...</td>\n",
       "      <td>0</td>\n",
       "    </tr>\n",
       "    <tr>\n",
       "      <th>3885</th>\n",
       "      <td>3886</td>\n",
       "      <td>B005GX7GVW</td>\n",
       "      <td>AS1FCKNKY95ID</td>\n",
       "      <td>Juli A. Lee \"JingleJL\"</td>\n",
       "      <td>1</td>\n",
       "      <td>1</td>\n",
       "      <td>1336953600</td>\n",
       "      <td>Great and good price!</td>\n",
       "      <td>I love these noodles.  They are really great f...</td>\n",
       "      <td>1</td>\n",
       "    </tr>\n",
       "    <tr>\n",
       "      <th>3886</th>\n",
       "      <td>3887</td>\n",
       "      <td>B005GX7GVW</td>\n",
       "      <td>A1I34N9LFOSCX7</td>\n",
       "      <td>Smeggy</td>\n",
       "      <td>0</td>\n",
       "      <td>0</td>\n",
       "      <td>1349136000</td>\n",
       "      <td>Yum!</td>\n",
       "      <td>This soup cooks up quickly and is very yummy! ...</td>\n",
       "      <td>1</td>\n",
       "    </tr>\n",
       "    <tr>\n",
       "      <th>4640</th>\n",
       "      <td>4641</td>\n",
       "      <td>B0002NYO9I</td>\n",
       "      <td>A5DVX3B075B09</td>\n",
       "      <td>Patricia Kays</td>\n",
       "      <td>0</td>\n",
       "      <td>0</td>\n",
       "      <td>1338940800</td>\n",
       "      <td>LOVELY JUNIPER BERRIES</td>\n",
       "      <td>Dried berries, still with texture and the quin...</td>\n",
       "      <td>1</td>\n",
       "    </tr>\n",
       "    <tr>\n",
       "      <th>4641</th>\n",
       "      <td>4642</td>\n",
       "      <td>B0002NYO9I</td>\n",
       "      <td>A376TWN7I4HMZ8</td>\n",
       "      <td>helios</td>\n",
       "      <td>0</td>\n",
       "      <td>1</td>\n",
       "      <td>1324252800</td>\n",
       "      <td>Exaclty what i ordered</td>\n",
       "      <td>Again, exactly what I ordered. No fuss, no mus...</td>\n",
       "      <td>1</td>\n",
       "    </tr>\n",
       "  </tbody>\n",
       "</table>\n",
       "</div>"
      ],
      "text/plain": [
       "        Id  ...  score\n",
       "29      30  ...      1\n",
       "2309  2310  ...      0\n",
       "2323  2324  ...      0\n",
       "3885  3886  ...      1\n",
       "3886  3887  ...      1\n",
       "4640  4641  ...      1\n",
       "4641  4642  ...      1\n",
       "\n",
       "[7 rows x 10 columns]"
      ]
     },
     "execution_count": 4,
     "metadata": {},
     "output_type": "execute_result"
    }
   ],
   "source": [
    "# Checkes: 1. Numerator<=Denominator\n",
    "print(data[data.HelpfulnessNumerator>data.HelpfulnessDenominator])\n",
    "\n",
    "# 2. Duplication\n",
    "data[data.duplicated(subset={'ProfileName', 'HelpfulnessNumerator',\n",
    "       'HelpfulnessDenominator', 'Time', 'Summary', 'Text', 'score'})]\n"
   ]
  },
  {
   "cell_type": "markdown",
   "metadata": {},
   "source": [
    "* There are some duplicated values present. Lets print one out."
   ]
  },
  {
   "cell_type": "code",
   "execution_count": 5,
   "metadata": {},
   "outputs": [
    {
     "data": {
      "text/html": [
       "<div>\n",
       "<style scoped>\n",
       "    .dataframe tbody tr th:only-of-type {\n",
       "        vertical-align: middle;\n",
       "    }\n",
       "\n",
       "    .dataframe tbody tr th {\n",
       "        vertical-align: top;\n",
       "    }\n",
       "\n",
       "    .dataframe thead th {\n",
       "        text-align: right;\n",
       "    }\n",
       "</style>\n",
       "<table border=\"1\" class=\"dataframe\">\n",
       "  <thead>\n",
       "    <tr style=\"text-align: right;\">\n",
       "      <th></th>\n",
       "      <th>Id</th>\n",
       "      <th>ProductId</th>\n",
       "      <th>UserId</th>\n",
       "      <th>ProfileName</th>\n",
       "      <th>HelpfulnessNumerator</th>\n",
       "      <th>HelpfulnessDenominator</th>\n",
       "      <th>Time</th>\n",
       "      <th>Summary</th>\n",
       "      <th>Text</th>\n",
       "      <th>score</th>\n",
       "    </tr>\n",
       "  </thead>\n",
       "  <tbody>\n",
       "    <tr>\n",
       "      <th>2513</th>\n",
       "      <td>2514</td>\n",
       "      <td>B0079LSXQ6</td>\n",
       "      <td>ANEDXRFDZDL18</td>\n",
       "      <td>Serene</td>\n",
       "      <td>2</td>\n",
       "      <td>3</td>\n",
       "      <td>1336780800</td>\n",
       "      <td>Tasty</td>\n",
       "      <td>I picked up a box of this in a discount grocer...</td>\n",
       "      <td>1</td>\n",
       "    </tr>\n",
       "  </tbody>\n",
       "</table>\n",
       "</div>"
      ],
      "text/plain": [
       "        Id  ...  score\n",
       "2513  2514  ...      1\n",
       "\n",
       "[1 rows x 10 columns]"
      ]
     },
     "execution_count": 5,
     "metadata": {},
     "output_type": "execute_result"
    }
   ],
   "source": [
    "data[data.Text==data['Text'].iloc[2309]]"
   ]
  },
  {
   "cell_type": "code",
   "execution_count": 6,
   "metadata": {},
   "outputs": [
    {
     "name": "stdout",
     "output_type": "stream",
     "text": [
      "Empty DataFrame\n",
      "Columns: [Id, ProductId, UserId, ProfileName, HelpfulnessNumerator, HelpfulnessDenominator, Time, Summary, Text, score]\n",
      "Index: []\n",
      "(4993, 10)\n"
     ]
    }
   ],
   "source": [
    "# Deleting the values\n",
    "data.drop_duplicates(keep='first',subset={'ProfileName', 'HelpfulnessNumerator',\n",
    "       'HelpfulnessDenominator', 'Time', 'Summary', 'Text', 'score'},inplace=True)\n",
    "print(data[data.duplicated(subset={'ProfileName','HelpfulnessNumerator',\n",
    "       'HelpfulnessDenominator', 'Time', 'Summary', 'Text', 'score'})])\n",
    "print(data.shape)\n",
    "# All the duplicate values have been removed"
   ]
  },
  {
   "cell_type": "code",
   "execution_count": 7,
   "metadata": {},
   "outputs": [
    {
     "name": "stdout",
     "output_type": "stream",
     "text": [
      "1    4182\n",
      "0     811\n",
      "Name: score, dtype: int64\n"
     ]
    },
    {
     "data": {
      "image/png": "[encoded data removed]",
      "text/plain": [
       "<Figure size 432x288 with 1 Axes>"
      ]
     },
     "metadata": {
      "needs_background": "light"
     },
     "output_type": "display_data"
    }
   ],
   "source": [
    "# Distribution of scores\n",
    "print(data.score.value_counts())\n",
    "c=[]\n",
    "for i in data.score.value_counts():c.append(i)\n",
    "plt.bar(['1','0'],c)\n",
    "plt.show()\n"
   ]
  },
  {
   "cell_type": "markdown",
   "metadata": {},
   "source": [
    "1. Dataset is imbalanced. We have 4182 positive reviews and 811 negative reviews.\n",
    "2. We will have to oversample or undersample the data points while modelling"
   ]
  },
  {
   "cell_type": "markdown",
   "metadata": {},
   "source": [
    "# [2] Text Pre processing\n",
    "\n",
    "- All the punctuations, html tags and the stopwords need to be removed before analysing the text.\n",
    "- Stopwords are frequently occuting words which do not offer any real meaning to the text. Eg: the, is, and, no etc.\n",
    "- Stopwords may make sense when used along with a non-stopword like 'not good' where not is a stop word. \n",
    "\n",
    "*For now, we will remove all the stopwords and make a new feature called cleanedText*"
   ]
  },
  {
   "cell_type": "code",
   "execution_count": 8,
   "metadata": {},
   "outputs": [],
   "source": [
    "from nltk.stem import SnowballStemmer\n",
    "import nltk.stem\n",
    "import re\n",
    "import string\n",
    "\n",
    "stop = set(stopwords.words('english'))\n",
    "sno = nltk.SnowballStemmer('english')\n",
    "\n",
    " # Defining functions that will make our cleaning easier\n",
    "def cleanhtml(sent):\n",
    "    '''This function cleans the html tags ina  sentence'''\n",
    "    cleanr = re.compile('<.*?>')\n",
    "    clean_sentence = re.sub(cleanr,'',sent)\n",
    "    return clean_sentence\n",
    "\n",
    "def cleanpunc(word):\n",
    "    '''This function cleans the punctuations in a word'''\n",
    "    clean_word = re.sub(r'[?|!|,|.|\\|/|\\'|\"|:|;|#]',r'',word)\n",
    "    return clean_word"
   ]
  },
  {
   "cell_type": "code",
   "execution_count": 9,
   "metadata": {},
   "outputs": [
    {
     "name": "stdout",
     "output_type": "stream",
     "text": [
      "Cleaned Text:  b'bought sever vital can dog food product found good qualiti product look like stew process meat smell better labrador finicki appreci product better'\n",
      "\n",
      "Actual Text:  I have bought several of the Vitality canned dog food products and have found them all to be of good quality. The product looks more like a stew than a processed meat and it smells better. My Labrador is finicky and she appreciates this product better than  most.\n"
     ]
    },
    {
     "data": {
      "text/html": [
       "<div>\n",
       "<style scoped>\n",
       "    .dataframe tbody tr th:only-of-type {\n",
       "        vertical-align: middle;\n",
       "    }\n",
       "\n",
       "    .dataframe tbody tr th {\n",
       "        vertical-align: top;\n",
       "    }\n",
       "\n",
       "    .dataframe thead th {\n",
       "        text-align: right;\n",
       "    }\n",
       "</style>\n",
       "<table border=\"1\" class=\"dataframe\">\n",
       "  <thead>\n",
       "    <tr style=\"text-align: right;\">\n",
       "      <th></th>\n",
       "      <th>Id</th>\n",
       "      <th>ProductId</th>\n",
       "      <th>UserId</th>\n",
       "      <th>ProfileName</th>\n",
       "      <th>HelpfulnessNumerator</th>\n",
       "      <th>HelpfulnessDenominator</th>\n",
       "      <th>Time</th>\n",
       "      <th>Summary</th>\n",
       "      <th>Text</th>\n",
       "      <th>score</th>\n",
       "      <th>cleanedText</th>\n",
       "    </tr>\n",
       "  </thead>\n",
       "  <tbody>\n",
       "    <tr>\n",
       "      <th>0</th>\n",
       "      <td>1</td>\n",
       "      <td>B001E4KFG0</td>\n",
       "      <td>A3SGXH7AUHU8GW</td>\n",
       "      <td>delmartian</td>\n",
       "      <td>1</td>\n",
       "      <td>1</td>\n",
       "      <td>1303862400</td>\n",
       "      <td>Good Quality Dog Food</td>\n",
       "      <td>I have bought several of the Vitality canned d...</td>\n",
       "      <td>1</td>\n",
       "      <td>b'bought sever vital can dog food product foun...</td>\n",
       "    </tr>\n",
       "    <tr>\n",
       "      <th>1</th>\n",
       "      <td>2</td>\n",
       "      <td>B00813GRG4</td>\n",
       "      <td>A1D87F6ZCVE5NK</td>\n",
       "      <td>dll pa</td>\n",
       "      <td>0</td>\n",
       "      <td>0</td>\n",
       "      <td>1346976000</td>\n",
       "      <td>Not as Advertised</td>\n",
       "      <td>Product arrived labeled as Jumbo Salted Peanut...</td>\n",
       "      <td>0</td>\n",
       "      <td>b'product arriv label jumbo salt peanutsth pea...</td>\n",
       "    </tr>\n",
       "    <tr>\n",
       "      <th>2</th>\n",
       "      <td>3</td>\n",
       "      <td>B000LQOCH0</td>\n",
       "      <td>ABXLMWJIXXAIN</td>\n",
       "      <td>Natalia Corres \"Natalia Corres\"</td>\n",
       "      <td>1</td>\n",
       "      <td>1</td>\n",
       "      <td>1219017600</td>\n",
       "      <td>\"Delight\" says it all</td>\n",
       "      <td>This is a confection that has been around a fe...</td>\n",
       "      <td>1</td>\n",
       "      <td>b'confect around centuri light pillowi citrus ...</td>\n",
       "    </tr>\n",
       "    <tr>\n",
       "      <th>3</th>\n",
       "      <td>4</td>\n",
       "      <td>B000UA0QIQ</td>\n",
       "      <td>A395BORC6FGVXV</td>\n",
       "      <td>Karl</td>\n",
       "      <td>3</td>\n",
       "      <td>3</td>\n",
       "      <td>1307923200</td>\n",
       "      <td>Cough Medicine</td>\n",
       "      <td>If you are looking for the secret ingredient i...</td>\n",
       "      <td>0</td>\n",
       "      <td>b'look secret ingredi robitussin believ found ...</td>\n",
       "    </tr>\n",
       "    <tr>\n",
       "      <th>4</th>\n",
       "      <td>5</td>\n",
       "      <td>B006K2ZZ7K</td>\n",
       "      <td>A1UQRSCLF8GW1T</td>\n",
       "      <td>Michael D. Bigham \"M. Wassir\"</td>\n",
       "      <td>0</td>\n",
       "      <td>0</td>\n",
       "      <td>1350777600</td>\n",
       "      <td>Great taffy</td>\n",
       "      <td>Great taffy at a great price.  There was a wid...</td>\n",
       "      <td>1</td>\n",
       "      <td>b'great taffi great price wide assort yummi ta...</td>\n",
       "    </tr>\n",
       "  </tbody>\n",
       "</table>\n",
       "</div>"
      ],
      "text/plain": [
       "   Id                        ...                                                                cleanedText\n",
       "0   1                        ...                          b'bought sever vital can dog food product foun...\n",
       "1   2                        ...                          b'product arriv label jumbo salt peanutsth pea...\n",
       "2   3                        ...                          b'confect around centuri light pillowi citrus ...\n",
       "3   4                        ...                          b'look secret ingredi robitussin believ found ...\n",
       "4   5                        ...                          b'great taffi great price wide assort yummi ta...\n",
       "\n",
       "[5 rows x 11 columns]"
      ]
     },
     "execution_count": 9,
     "metadata": {},
     "output_type": "execute_result"
    }
   ],
   "source": [
    "cleaned_text =[] # List of the cleaned reviews\n",
    "for sentence in data['Text'].values:\n",
    "    clean_sentence = []\n",
    "    sentence = cleanhtml(sentence)\n",
    "    for word in sentence.split():\n",
    "        cleaned_word = cleanpunc(word)\n",
    "        if (cleaned_word.lower() not in stop) & (cleaned_word.isalpha()):\n",
    "            if len(cleaned_word)>2:\n",
    "                stemmed_word = sno.stem(cleaned_word.lower()).encode('utf8')\n",
    "                clean_sentence.append(stemmed_word)\n",
    "            \n",
    "\n",
    "    str1=b' '.join(clean_sentence)\n",
    "    #print(str1)\n",
    "    cleaned_text.append(str1)\n",
    "print('Cleaned Text: ',cleaned_text[0])\n",
    "print('\\nActual Text: ',data['Text'].values[0])\n",
    "data['cleanedText'] = cleaned_text\n",
    "data.head(5)"
   ]
  },
  {
   "cell_type": "markdown",
   "metadata": {},
   "source": [
    "# [3] Data Modelling"
   ]
  },
  {
   "cell_type": "markdown",
   "metadata": {},
   "source": [
    "## [3.1] Splitting the Data\n",
    "\n",
    "- Splitting of the data can be done mainly in 2 was.\n",
    "1. Random Splitting: The data is randomly split into train and test set where each datapoint as equal probability of going into the train or test set respectively.\n",
    "2. Time Based Splitting: Train, Cross Validation and Test set is formed in ascending order of time.\n",
    "\n",
    "\n",
    "- We have used time based splitting as the data in internet companies keep changing over time. If we use random splitting then we might get a good accuracy on train or cross validation data but\n",
    "on futue unseen data we will get a lower accuracy.\n"
   ]
  },
  {
   "cell_type": "code",
   "execution_count": 10,
   "metadata": {},
   "outputs": [
    {
     "name": "stdout",
     "output_type": "stream",
     "text": [
      "(4993, 10)\n",
      "(4993,)\n",
      "Train shape  (2241, 10) (2241,)\n",
      "CV shape (1104, 10) (1104,)\n",
      "Test shape (1648, 10) (1104,)\n"
     ]
    }
   ],
   "source": [
    "from sklearn.model_selection import train_test_split\n",
    "y = data['score']\n",
    "data.drop('score',axis=1,inplace = True)\n",
    "X = data\n",
    "print(X.shape)\n",
    "print(y.shape)\n",
    "X_train,X_test,y_train,y_test = train_test_split(X,y,test_size = 0.33,shuffle =False) # 33% data in test\n",
    "X_train,X_cv,y_train,y_cv = train_test_split(X_train,y_train,test_size = 0.33,shuffle =False) # 33% data in cross validation\n",
    "print('Train shape ',X_train.shape,y_train.shape)\n",
    "print('CV shape',X_cv.shape,y_cv.shape)\n",
    "print('Test shape',X_test.shape,y_cv.shape)\n"
   ]
  },
  {
   "cell_type": "markdown",
   "metadata": {},
   "source": [
    "## [3.2] Bag of Words\n",
    "\n",
    "- BOW is a technique used to convert textual data into numeric data. \n",
    "- It creates a sparse matrix where the features are the vocabulary built using the train data and the values are the frequency of those terms in the document."
   ]
  },
  {
   "cell_type": "code",
   "execution_count": 11,
   "metadata": {},
   "outputs": [
    {
     "name": "stdout",
     "output_type": "stream",
     "text": [
      "['abl', 'absolut', 'actual', 'ad', 'add', 'addict', 'addit', 'ago', 'allergi', 'almost']\n",
      "(2241, 500)\n",
      "(1104, 500)\n",
      "(1648, 500)\n"
     ]
    }
   ],
   "source": [
    "# Converting cleaned text into bow vectors\n",
    "\n",
    "bow = CountVectorizer(max_features = 500) #ngram = 1\n",
    "\n",
    "\n",
    "Xtrain_bow = bow.fit_transform(X_train['cleanedText'])\n",
    "print(bow.get_feature_names()[0:10])\n",
    "#print(bow.vocabulary_)\n",
    "\n",
    "Xcross_bow = bow.transform(X_cv['cleanedText'])\n",
    "Xtest_bow = bow.transform(X_test['cleanedText'])\n",
    "\n",
    "# Checking their dimension\n",
    "print(Xtrain_bow.shape)\n",
    "print(Xcross_bow.shape)\n",
    "print(Xtest_bow.shape)\n",
    "# Reduced the reviews bow vectors with 500 features\n",
    "\n"
   ]
  },
  {
   "cell_type": "markdown",
   "metadata": {},
   "source": [
    "## [3.2.1] Standardizing"
   ]
  },
  {
   "cell_type": "code",
   "execution_count": 12,
   "metadata": {},
   "outputs": [],
   "source": [
    "# Standardizing\n",
    "from sklearn.preprocessing import StandardScaler\n",
    "std = StandardScaler()\n",
    "\n",
    "Xtrain_bow_std = std.fit_transform(Xtrain_bow.toarray()) # converting sparse matrix into dense matrix using toarray()\n",
    "Xtest_bow_std = std.fit_transform(Xtest_bow.toarray())\n",
    "Xcross_bow_std = std.fit_transform(Xcross_bow.toarray())\n"
   ]
  },
  {
   "cell_type": "markdown",
   "metadata": {},
   "source": [
    "## [3.2.2] Train and Test Distribution\n",
    "\n",
    "- Since we have done a time based split we must ensure that the distribution of train and test are not too dissimilar.\n",
    "- As mentioned before, the data in internet companies keeps chaning over time, this may lead to 2 completely different distribution in 2 points of time. The train and test dat\n",
    "may be completely different and if that is the case then our model will perform horribly.\n",
    "\n",
    "#### Process\n",
    "\n",
    "- To ensure that train and test are of similar distribution we are applying KNN classification.\n",
    "- A new dataset has been created where label=1 is given to train and label = 0 is given to test.\n",
    "- Then, we are modelling a classifier to distinguish between the train and test.\n",
    "- If the accuracy is high then that means that the distribution is completely different and classifier is easily able to classify train and test.\n",
    "- If the accuracy is low to medium then we can say that the distribution of train and test set is not same."
   ]
  },
  {
   "cell_type": "code",
   "execution_count": 13,
   "metadata": {},
   "outputs": [
    {
     "name": "stdout",
     "output_type": "stream",
     "text": [
      "Dimensions of train dataset incusing original labels (2241, 501)\n",
      "\n",
      "Dimensions of train dataset incusing original labels (1648, 501)\n",
      "\n",
      "The shape of combined new data (3889, 501)\n",
      "\n",
      "Dimension of train data with label=1 (2605, 501) (2605,)\n",
      "\n",
      "Dimension of test data with label=0 (1284, 501) (1284,)\n",
      "\n",
      "Accuracy of mdoel 0.470404984423676\n"
     ]
    }
   ],
   "source": [
    "# cheking if train and test have same distribution ~ Not taking cross validation as if train and test have same distribution we can assume CV will also have similar distribution.\n",
    "\n",
    "# 1. Creating the new dataset train labels = 1, test labels = 0\n",
    "Train_label = np.ones(len(X_train))\n",
    "Test_label = np.zeros(len(X_test))\n",
    "labels = np.hstack((Train_label.T,Test_label.T))\n",
    "#Train\n",
    "new_data_train = (np.vstack((Xtrain_bow_std.T,y_train)).T)\n",
    "print('Dimensions of train dataset incusing original labels',new_data_train.shape)\n",
    "#print(new_data_train[0:10])\n",
    "\n",
    "# Test\n",
    "new_data_test = (np.vstack((Xtest_bow_std.T,y_test)).T)\n",
    "print('\\nDimensions of train dataset incusing original labels',new_data_test.shape)\n",
    "#print(new_data_test[0:10])\n",
    "\n",
    "# 2. Combine the train and test data\n",
    "dist_data = np.vstack((new_data_train,new_data_test))\n",
    "print('\\nThe shape of combined new data',dist_data.shape)\n",
    "\n",
    "# 3. Random splitting into train and test for modeling\n",
    "x_train,x_test,Y_train,Y_test = train_test_split(dist_data,labels,test_size=0.33,shuffle=True)\n",
    "print('\\nDimension of train data with label=1',x_train.shape,Y_train.shape)\n",
    "print('\\nDimension of test data with label=0',x_test.shape,Y_test.shape)\n",
    "\n",
    "# 4. Modelling using KNN\n",
    "from sklearn.metrics import accuracy_score\n",
    "knn = KNeighborsClassifier(n_neighbors = 20)\n",
    "knn.fit(x_train,Y_train)\n",
    "test_predict = knn.predict(x_test)\n",
    "\n",
    "#5. Inspect Accuracy\n",
    "accuracy = accuracy_score(test_predict,Y_test)\n",
    "print('\\nAccuracy of mdoel',accuracy)"
   ]
  },
  {
   "cell_type": "markdown",
   "metadata": {},
   "source": [
    "- We are getting an accuracy in a range of 45-55% (for different k values). Medium accuracy.\n",
    "- The classifier is not able to distiguin train and test points that well. \n",
    " \n",
    "**Conclusion:** The distribution is somewhat changing through time but 50% accuracy indicates that the distribution of train and test data is **not similar.**"
   ]
  },
  {
   "cell_type": "markdown",
   "metadata": {},
   "source": [
    "# [3.2.3] Oversampling\n",
    "\n",
    "- As we saw before, the dataset we have is highly imbalanced. \n",
    "- The positive points are much higher than negative points, this wiil make even a dunb model give a high accuracy.\n",
    "\n",
    "There are  ways to tackle this problem:\n",
    "1. Undersampling: Here we reduce the majority class data to match that of minority class.\n",
    "2. Oversampling: We increase the minority class data to match that of majority class.\n",
    "\n",
    "- We have used oversampling as in undersampling we are deleting a lot of data hence, we are losing a lot of information.\n",
    "- Oversampling does not lose information.\n",
    "\n",
    "- As for oversampling, there are 3 types of oversampling. We have usend SMOTE technique, which is a state of the art technique for resampling.\n",
    "\n",
    "For more info: https://medium.com/anomaly-detection-with-python-and-r/sampling-techniques-for-extremely-imbalanced-data-part-ii-over-sampling-d61b43bc4879"
   ]
  },
  {
   "cell_type": "code",
   "execution_count": 14,
   "metadata": {},
   "outputs": [
    {
     "name": "stdout",
     "output_type": "stream",
     "text": [
      "Number of positive and negative reviews:\n",
      " 1    1894\n",
      "0     347\n",
      "Name: score, dtype: int64\n",
      "[1894 1894] (3788, 500)\n"
     ]
    }
   ],
   "source": [
    "from imblearn.over_sampling import SMOTE\n",
    "print('Number of positive and negative reviews:\\n',y_train.value_counts())\n",
    "sm = SMOTE(random_state=0,ratio=1.0)\n",
    "Xtrain_res,ytrain_res = sm.fit_sample(Xtrain_bow_std,y_train)\n",
    "print(np.bincount(ytrain_res),Xtrain_res.shape) # equal 1s and 0s"
   ]
  },
  {
   "cell_type": "markdown",
   "metadata": {},
   "source": [
    "# [3.2.4] Hyperparameter Tuning ~ KNN\n",
    "\n",
    "- For hyper parameter tuning, cross-validation set is being used so as to avoid any data leakage to the test data.\n",
    "- The hyper parameter here is K which determines the optimal number of neighborhood points for the algorithm to be able to obtain the highest test accuracy.\n",
    "- We plot the Train error vs K and Cross-Validation Error vs K plots and identify best value of K using it."
   ]
  },
  {
   "cell_type": "code",
   "execution_count": 15,
   "metadata": {},
   "outputs": [
    {
     "name": "stdout",
     "output_type": "stream",
     "text": [
      "Train AUC Scores  [1.0, 0.9994986442854578, 0.973978192928374, 0.8861283470629228, 0.8089713002382771, 0.7817984291361466, 0.7659756732164974, 0.7367060853476319, 0.7196014107952003]\n",
      "CV AUC Scores [0.5982358799260208, 0.641993750757444, 0.6678812116996781, 0.7003630462159414, 0.6748734080502469, 0.6583018500076403, 0.6509776955786346, 0.6320165662888668, 0.6198052512606503]\n"
     ]
    },
    {
     "data": {
      "image/png": "[encoded data removed]",
      "text/plain": [
       "<Figure size 504x504 with 1 Axes>"
      ]
     },
     "metadata": {
      "needs_background": "light"
     },
     "output_type": "display_data"
    }
   ],
   "source": [
    "import scipy\n",
    "from sklearn.metrics import roc_auc_score\n",
    "from sklearn.neighbors import KNeighborsClassifier\n",
    "\n",
    "neighbors = [1,2,5,10,20,25,30,40,50]\n",
    "auc_scores_cv = []\n",
    "auc_scores_train = []\n",
    "for k in neighbors:\n",
    "    knn = KNeighborsClassifier(n_neighbors=k)\n",
    "    knn.fit(Xtrain_res,ytrain_res) # fitting the model\n",
    "    \n",
    "    cv_predict = knn.predict_proba(Xcross_bow_std) # predicting the probabilistic values cross validation set\n",
    "    cv_auc = roc_auc_score(y_cv,cv_predict[:,1])\n",
    "    auc_scores_cv.append(cv_auc) #auc value for CV set\n",
    "    \n",
    "    train_predict = knn.predict_proba(Xtrain_bow_std) # predicting on train itself\n",
    "    train_auc = roc_auc_score(y_train,train_predict[:,1]) # auc value for train\n",
    "    auc_scores_train.append(train_auc)\n",
    "\n",
    "print('Train AUC Scores ',auc_scores_train)\n",
    "print('CV AUC Scores',auc_scores_cv)\n",
    "error_cv = [1-  x for x in auc_scores_cv]\n",
    "error_train = [1 - x for x in auc_scores_train]\n",
    "# Visualising Train error and Cross Validation Error\n",
    "plt.figure(figsize=(7,7))\n",
    "plt.plot(neighbors,error_cv,color = 'r',label='Cross-Validation error') \n",
    "plt.plot(neighbors,error_train,color='b',label='Train Error')\n",
    "plt.xlabel('K Neighbors')\n",
    "plt.ylabel('error')\n",
    "plt.title('K: Hyperparameter')\n",
    "plt.legend(loc='lower right')\n",
    "plt.grid()\n",
    "plt.show()\n",
    "\n"
   ]
  },
  {
   "cell_type": "code",
   "execution_count": 16,
   "metadata": {},
   "outputs": [],
   "source": [
    "# The optimal value of K\n",
    "best_k =10"
   ]
  },
  {
   "cell_type": "markdown",
   "metadata": {},
   "source": [
    "1. Initial model is overfitting as it should be. Train error is low and Validation error is high.\n",
    "\n",
    "2. The train error keeps increasing and peeks at 50. Validation error decreases till k =10 and then increases gradually. \n",
    "   The model starts to underfit.\n",
    "\n",
    "3. The optimal value of k is for which Crosh Validation error is low and train error close to CV error\n",
    " This can be seen for K=10."
   ]
  },
  {
   "cell_type": "markdown",
   "metadata": {},
   "source": [
    "# [3.2.5] Prediction & Performance Metrics\n",
    "\n",
    "\n",
    "\n",
    "- The performance metric we are using is ROC and AUC.\n",
    "- The dataset is highly imbalanced and binary hence ROC and AUC seem to be the optimal metric.\n",
    "- We will also take a look at the confusion matrix to better understand the working of the model"
   ]
  },
  {
   "cell_type": "code",
   "execution_count": 17,
   "metadata": {},
   "outputs": [
    {
     "data": {
      "image/png": "[encoded data removed]",
      "text/plain": [
       "<Figure size 504x504 with 1 Axes>"
      ]
     },
     "metadata": {
      "needs_background": "light"
     },
     "output_type": "display_data"
    },
    {
     "name": "stdout",
     "output_type": "stream",
     "text": [
      "Train:\n",
      " [[ 342 1431]\n",
      " [   5  463]]\n",
      "\n",
      "CV:\n",
      " [[202 737]\n",
      " [ 11 154]]\n",
      "\n",
      "Test:\n",
      " [[ 232 1151]\n",
      " [  19  246]]\n",
      "##################################################\n",
      "TNR for Test =  0.9243027888446215\n",
      "FPR for Test =  0.07569721115537849\n"
     ]
    }
   ],
   "source": [
    "from sklearn.metrics import roc_curve,auc\n",
    "from sklearn.metrics import confusion_matrix\n",
    "# Final Prediction using Test Data\n",
    "knn = KNeighborsClassifier(n_neighbors = best_k)\n",
    "knn.fit(Xtrain_res,ytrain_res) # fitting the model in train set\n",
    "\n",
    "# predicted values determination\n",
    "predicted_values_train = knn.predict_proba(Xtrain_bow_std)\n",
    "predicted_values_test = knn.predict_proba(Xtest_bow_std)\n",
    "predicted_values_cv = knn.predict_proba(Xcross_bow_std)\n",
    "\n",
    "# False Positive Rate and True Positive Rate\n",
    "train_fpr,train_tpr,thresholds = roc_curve(y_train,predicted_values_train[:,1],pos_label=1)\n",
    "cv_fpr,cv_tpr,thresholds = roc_curve(y_cv,predicted_values_cv[:,1],pos_label=1)\n",
    "test_fpr,test_tpr,thresholds = roc_curve(y_test,predicted_values_test[:,1],pos_label=1)\n",
    "\n",
    "# Visualising ROC\n",
    "plt.figure(figsize=(7,7))\n",
    "plt.plot(train_fpr,train_tpr,color='g',label='Train AUC = '+str(auc(train_fpr,train_tpr)))\n",
    "plt.plot(cv_fpr,cv_tpr,color='b',label = 'CV AUC = '+str(auc(cv_fpr,cv_tpr)))\n",
    "plt.plot(test_fpr,test_tpr,color='r',label = 'Test AUC = '+str(auc(test_fpr,test_tpr)))\n",
    "plt.legend(loc = 'lower right')\n",
    "plt.show()\n",
    "\n",
    "# Confucion Matrix\n",
    "\n",
    "print('Train:\\n',confusion_matrix(y_train,knn.predict(Xtrain_bow_std)).T)\n",
    "print('\\nCV:\\n',confusion_matrix(y_cv,knn.predict(Xcross_bow_std)).T)\n",
    "print('\\nTest:\\n',confusion_matrix(y_test,knn.predict(Xtest_bow_std)).T)\n",
    "cm = confusion_matrix(y_test,knn.predict(Xtest_bow_std)).T\n",
    "print('#'*50)\n",
    "print('TNR for Test = ',(cm[0][0])/(cm[0][0] + cm[1][0]) )\n",
    "print('FPR for Test = ',cm[1][0]/(cm[1][0]+cm[0][0]) )\n"
   ]
  },
  {
   "cell_type": "markdown",
   "metadata": {},
   "source": [
    "1. The Test AUC is 65%. The model seems fine.\n",
    "2. TNR = 92.4% which is very good.\n",
    "3. FPR = 0.07% which again is very good.\n",
    "\n",
    "**Conclusion: Overall, this model is a fairly good model. Using this model we are easily able to predict if a review is negative or not. For an internet company like amazon identifying negative comments are more important for which our True negative rate must be high and our False positive rate must be low. We are able to easily achieve that.** \n",
    "\n",
    "\n"
   ]
  },
  {
   "cell_type": "code",
   "execution_count": null,
   "metadata": {},
   "outputs": [],
   "source": []
  }
 ],
 "metadata": {
  "kernelspec": {
   "display_name": "Python 3",
   "language": "python",
   "name": "python3"
  },
  "language_info": {
   "codemirror_mode": {
    "name": "ipython",
    "version": 3
   },
   "file_extension": ".py",
   "mimetype": "text/x-python",
   "name": "python",
   "nbconvert_exporter": "python",
   "pygments_lexer": "ipython3",
   "version": "3.6.6"
  }
 },
 "nbformat": 4,
 "nbformat_minor": 1
}
